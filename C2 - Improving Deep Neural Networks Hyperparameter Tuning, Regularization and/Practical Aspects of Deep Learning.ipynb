{
 "cells": [
  {
   "cell_type": "markdown",
   "id": "45ddd542-0caa-40bb-9412-b94eca1ed68e",
   "metadata": {},
   "source": [
    "# Practical Aspects of Deep Learning"
   ]
  },
  {
   "cell_type": "markdown",
   "id": "f54bb5cc-7400-460a-bb4b-08a6ea9d8bce",
   "metadata": {},
   "source": [
    "Discover and experiment with a variety of different initialization methods, apply L2 regularization and dropout to avoid model overfitting, then apply gradient checking to identify errors in a fraud detection model."
   ]
  },
  {
   "cell_type": "markdown",
   "id": "63a07e04-aeba-486d-8665-0afd954a8fdb",
   "metadata": {},
   "source": [
    "## Learning Objectives"
   ]
  },
  {
   "cell_type": "markdown",
   "id": "17c6aa04-7018-419d-8b5a-9641a3387fa4",
   "metadata": {},
   "source": [
    "- Give examples of how different types of initializations can lead to different results\n",
    "- Examine the importance of initialization in complex neural networks\n",
    "- Explain the difference between train/dev/test sets\n",
    "- Diagnose the bias and variance issues in your model\n",
    "- Assess the right time and place for using regularization methods such as dropout or L2 regularization\n",
    "- Explain Vanishing and Exploding gradients and how to deal with them\n",
    "- Use gradient checking to verify the accuracy of your backpropagation implementation\n",
    "- Apply zeros initialization, random initialization, and He initialization\n",
    "- Apply regularization to a deep learning model"
   ]
  },
  {
   "cell_type": "markdown",
   "id": "0999824a-6b6c-4719-a203-e682b710df83",
   "metadata": {},
   "source": [
    "## Setting up your Machine Learning Application"
   ]
  },
  {
   "cell_type": "markdown",
   "id": "8e672bf4-bb15-4800-b9dc-f8a56a0f0f8c",
   "metadata": {},
   "source": [
    "### Train / Dev / Test sets"
   ]
  },
  {
   "cell_type": "code",
   "execution_count": null,
   "id": "43ad59a7-ddb9-41f6-acbc-12a56bebf2b5",
   "metadata": {},
   "outputs": [],
   "source": []
  }
 ],
 "metadata": {
  "kernelspec": {
   "display_name": "Python 3 (ipykernel)",
   "language": "python",
   "name": "python3"
  },
  "language_info": {
   "codemirror_mode": {
    "name": "ipython",
    "version": 3
   },
   "file_extension": ".py",
   "mimetype": "text/x-python",
   "name": "python",
   "nbconvert_exporter": "python",
   "pygments_lexer": "ipython3",
   "version": "3.12.4"
  }
 },
 "nbformat": 4,
 "nbformat_minor": 5
}
